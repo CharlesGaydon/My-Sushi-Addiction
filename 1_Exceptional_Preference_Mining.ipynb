{
 "cells": [
  {
   "cell_type": "markdown",
   "metadata": {},
   "source": [
    "# Exceptional Preference Mining (EPM) using Preference Matrix\n",
    "\n",
    "Author : Charles Gaydon\n",
    "\n",
    "February 2018\n",
    "\n",
    "Context : I wanted to discover this interesting aspect of Data Science that is EPM.\n",
    "\n",
    "Note : This notebook is structured as a draft. It shows, step by step, how I implemented te beam search algorithm using toy data and toy score function, then implemented an EP score function, and finally applied it to the sushi dataset.\n",
    "\n",
    "**CONTENT** :  \n",
    "- **Subgroup Discovery** using a **beam search** (see more [here](http://www.cs.cmu.edu/afs/cs/project/jair/pub/volume17/gamberger02a-html/node4.html))\n",
    "\n",
    "- **Subgroup selection** using a score of \"Exceptional Preference\", based on a **Preference Matrix** (PM) obtained from the ranking of some items. This idea is proposed by Claudio Rebelo de Sa *et al* in their article [Exceptional Preference Mining](https://biblio.ugent.be/publication/8519644/file/8519856.pdf)\n",
    "\n",
    "- The whole method is applied to the [**Sushi preference dataset**](http://www.kamishima.net/sushi/), set A, in which 10 sushis were ranked by 5000 subjects, about whom we possess some information."
   ]
  },
  {
   "cell_type": "code",
   "execution_count": 1,
   "metadata": {},
   "outputs": [],
   "source": [
    "# imports\n",
    "import pandas as pd\n",
    "import numpy as np\n",
    "np.random.seed(0)\n",
    "import matplotlib.pyplot as plt\n",
    "from copy import deepcopy\n",
    "import matplotlib.pyplot as plt\n",
    "import matplotlib.cm as cm\n",
    "import matplotlib.ticker as ticker\n",
    "import matplotlib.colors as mc"
   ]
  },
  {
   "cell_type": "markdown",
   "metadata": {},
   "source": [
    "Playing with toy data, we first developp the beam search algorithm with a naive score for a subgroup : the mean sd of each object's rank, which is the sd of the matrix of ranks. \n",
    "We will change this to a more meaningful score (see the end of the notebook)."
   ]
  },
  {
   "cell_type": "code",
   "execution_count": 2,
   "metadata": {},
   "outputs": [
    {
     "data": {
      "text/html": [
       "<div>\n",
       "<style scoped>\n",
       "    .dataframe tbody tr th:only-of-type {\n",
       "        vertical-align: middle;\n",
       "    }\n",
       "\n",
       "    .dataframe tbody tr th {\n",
       "        vertical-align: top;\n",
       "    }\n",
       "\n",
       "    .dataframe thead th {\n",
       "        text-align: right;\n",
       "    }\n",
       "</style>\n",
       "<table border=\"1\" class=\"dataframe\">\n",
       "  <thead>\n",
       "    <tr style=\"text-align: right;\">\n",
       "      <th></th>\n",
       "      <th>attr1</th>\n",
       "      <th>attr2</th>\n",
       "    </tr>\n",
       "  </thead>\n",
       "  <tbody>\n",
       "    <tr>\n",
       "      <th>0</th>\n",
       "      <td>1</td>\n",
       "      <td>A</td>\n",
       "    </tr>\n",
       "    <tr>\n",
       "      <th>1</th>\n",
       "      <td>1</td>\n",
       "      <td>B</td>\n",
       "    </tr>\n",
       "    <tr>\n",
       "      <th>2</th>\n",
       "      <td>1</td>\n",
       "      <td>B</td>\n",
       "    </tr>\n",
       "    <tr>\n",
       "      <th>3</th>\n",
       "      <td>1</td>\n",
       "      <td>A</td>\n",
       "    </tr>\n",
       "    <tr>\n",
       "      <th>4</th>\n",
       "      <td>1</td>\n",
       "      <td>A</td>\n",
       "    </tr>\n",
       "  </tbody>\n",
       "</table>\n",
       "</div>"
      ],
      "text/plain": [
       "  attr1 attr2\n",
       "0     1     A\n",
       "1     1     B\n",
       "2     1     B\n",
       "3     1     A\n",
       "4     1     A"
      ]
     },
     "execution_count": 2,
     "metadata": {},
     "output_type": "execute_result"
    }
   ],
   "source": [
    "Usource = \"toydata/Udata.tsv\"\n",
    "Uranks = \"toydata/Uranks3.tsv\"\n",
    "Udata = pd.read_csv(Usource, sep = \"\\t\", dtype=str)\n",
    "Udata.head(5)"
   ]
  },
  {
   "cell_type": "code",
   "execution_count": 3,
   "metadata": {},
   "outputs": [
    {
     "data": {
      "text/html": [
       "<div>\n",
       "<style scoped>\n",
       "    .dataframe tbody tr th:only-of-type {\n",
       "        vertical-align: middle;\n",
       "    }\n",
       "\n",
       "    .dataframe tbody tr th {\n",
       "        vertical-align: top;\n",
       "    }\n",
       "\n",
       "    .dataframe thead th {\n",
       "        text-align: right;\n",
       "    }\n",
       "</style>\n",
       "<table border=\"1\" class=\"dataframe\">\n",
       "  <thead>\n",
       "    <tr style=\"text-align: right;\">\n",
       "      <th></th>\n",
       "      <th>obj1</th>\n",
       "      <th>obj2</th>\n",
       "      <th>obj3</th>\n",
       "    </tr>\n",
       "  </thead>\n",
       "  <tbody>\n",
       "    <tr>\n",
       "      <th>0</th>\n",
       "      <td>1</td>\n",
       "      <td>3</td>\n",
       "      <td>2</td>\n",
       "    </tr>\n",
       "    <tr>\n",
       "      <th>1</th>\n",
       "      <td>1</td>\n",
       "      <td>2</td>\n",
       "      <td>3</td>\n",
       "    </tr>\n",
       "    <tr>\n",
       "      <th>2</th>\n",
       "      <td>2</td>\n",
       "      <td>3</td>\n",
       "      <td>1</td>\n",
       "    </tr>\n",
       "    <tr>\n",
       "      <th>3</th>\n",
       "      <td>3</td>\n",
       "      <td>1</td>\n",
       "      <td>2</td>\n",
       "    </tr>\n",
       "    <tr>\n",
       "      <th>4</th>\n",
       "      <td>1</td>\n",
       "      <td>3</td>\n",
       "      <td>2</td>\n",
       "    </tr>\n",
       "  </tbody>\n",
       "</table>\n",
       "</div>"
      ],
      "text/plain": [
       "   obj1  obj2  obj3\n",
       "0     1     3     2\n",
       "1     1     2     3\n",
       "2     2     3     1\n",
       "3     3     1     2\n",
       "4     1     3     2"
      ]
     },
     "execution_count": 3,
     "metadata": {},
     "output_type": "execute_result"
    }
   ],
   "source": [
    "Rdata = pd.read_csv(Uranks, sep = \"\\t\", header=None, names = [\"obj\"+str(i) for i in [1,2,3]]) #col 1 == obj 1 !!!\n",
    "Rdata.head(5)"
   ]
  },
  {
   "cell_type": "markdown",
   "metadata": {},
   "source": [
    "**Important** :\n",
    "\n",
    "Data from this point on are considered clean in order to be fed to the Beam Search algorithm :\n",
    "- no missing value in a row ;\n",
    "- a column j in Rdata corresponds to the jth object of the set considered ;\n",
    "- the ith value of the column is the rank of this object attributed by the ith subject of the Udata.\n",
    "- subjects are described by attributes, which were binned into a finite set of values (2 in our toy data)."
   ]
  },
  {
   "cell_type": "markdown",
   "metadata": {},
   "source": [
    "Beam Search ALGORITHIM"
   ]
  },
  {
   "cell_type": "code",
   "execution_count": 4,
   "metadata": {},
   "outputs": [],
   "source": [
    "# a condition is defined by an attribute which may take a value. ex : sexe = 1\n",
    "class condition:\n",
    "    \n",
    "    def __init__(self, first_attr, value_taken, relation):\n",
    "        self.attr_name = first_attr\n",
    "        self.takes_value = value_taken\n",
    "        self.relation = relation\n",
    "\n",
    "    def __str__(self):\n",
    "        return(\"[\" + self.attr_name + \" \" + self.relation + \" \" + self.takes_value+\"]\")\n",
    "\n",
    "# a rule is a set of conditions\n",
    "class rule:\n",
    "    \n",
    "    def __init__(self, first_attr= None, first_value = None, first_relation = None, start_condition = None, start_rule = None):\n",
    "        self.score = 0.0\n",
    "        self.conds = []\n",
    "        if start_condition != None:\n",
    "            self.add(start_condition)\n",
    "        elif first_attr != None and first_value!=None and first_relation!=None :\n",
    "            self.add(condition(first_attr, first_value, first_relation))\n",
    "        elif start_rule != None : \n",
    "            self.score = start_rule.score\n",
    "            self.conds = deepcopy(start_rule.conds)\n",
    "    \n",
    "    # add a condition to the rule, ony if attr was not yet present\n",
    "    def add(self, new_cond): \n",
    "        if new_cond.attr_name in [c.attr_name for c in self.conds]:\n",
    "            return(0)\n",
    "        self.conds.append(new_cond)\n",
    "        return(1)\n",
    "    \n",
    "    # generate the subset of ranking data from the two dataframes\n",
    "    def get_subset(self, Udata, Rdata):\n",
    "        attr_names = Rdata.columns\n",
    "        all_data = pd.concat([Udata,Rdata],axis=1)\n",
    "        for cond in self.conds:\n",
    "            if cond.relation == \"=\":\n",
    "                all_data = all_data[all_data[cond.attr_name] == cond.takes_value]\n",
    "            elif cond.relation == \"<\":\n",
    "                all_data = all_data[all_data[cond.attr_name] < cond.takes_value]\n",
    "            elif cond.relation == \">\":\n",
    "                all_data = all_data[all_data[cond.attr_name] > cond.takes_value]\n",
    "                \n",
    "        return(all_data[attr_names].values)  \n",
    "    \n",
    "    # for equal string representation.\n",
    "    def reorder_conds(self):\n",
    "        #TODO\n",
    "        pass\n",
    "    \n",
    "    def __str__(self):\n",
    "        out = [cond.__str__() for cond in self.conds]\n",
    "        return(\" & \".join(out))\n",
    "    \n",
    "# set in ascending order a list of rules based on their score\n",
    "def reorder(rules):\n",
    "    return(sorted(rules, key = lambda x : x.score))\n",
    "\n",
    "# a naive default score function for the subset discovery, for dev purpose\n",
    "def naive_score_function(ranks):\n",
    "    return(np.std(ranks[:,0]))\n",
    "\n",
    "# TESTS    \n",
    "# cond1 = condition(\"attr1\", \"2\", \"<\")\n",
    "# cond2 = condition(\"attr2\", \"1\",\">\")\n",
    "# rule1 = rule(start_condition = cond1)\n",
    "# rule1.add(cond2)\n",
    "# print(rule1)"
   ]
  },
  {
   "cell_type": "code",
   "execution_count": 5,
   "metadata": {
    "scrolled": true
   },
   "outputs": [],
   "source": [
    "def beam_search(Udata, Rdata, beam_width, max_iter = 50,verbose = False, score_function = naive_score_function):\n",
    "    # initialisation of the different conditions to combine\n",
    "    L = []\n",
    "    for attr in Udata.columns : \n",
    "        uniques = np.unique(Udata[attr].values)\n",
    "        for index,val in enumerate(uniques) :\n",
    "            L.append(condition(attr, val, \"=\"))\n",
    "            # inf and sup cond without redundancy with equality\n",
    "            if index >1 and index<(len(uniques)-2):\n",
    "                L.append(condition(attr, val, \"<\"))\n",
    "                L.append(condition(attr, val, \">\"))\n",
    "            \n",
    "    # Initialization of the beam lists\n",
    "    beam = []\n",
    "    new_beam = []\n",
    "    for c in range(beam_width):\n",
    "        beam.append(rule())\n",
    "        new_beam.append(rule())\n",
    "    i = 0\n",
    "    while i < max_iter:\n",
    "        for r in beam : \n",
    "            # shuffling the rules for better generation. \n",
    "            # Note : this is an inplace operation.\n",
    "            np.random.shuffle(L)\n",
    "            for l in L:\n",
    "                \n",
    "                new_r = rule(start_rule = r)\n",
    "                \n",
    "                # exit if condition was already there\n",
    "                is_actually_new = new_r.add(l)              \n",
    "                if not is_actually_new:\n",
    "                    break \n",
    "                    \n",
    "                # exit if rule was already found\n",
    "                is_not_yet_in_new_beam = (new_r.__str__() not in [b.__str__() for b in new_beam])\n",
    "                if not is_not_yet_in_new_beam:\n",
    "                    break\n",
    "                    \n",
    "                # generate subset and compute score    \n",
    "                Rsubset = new_r.get_subset(Udata, Rdata)\n",
    "                new_score = score_function(Rsubset)\n",
    "                \n",
    "                if verbose:\n",
    "                    print(new_r.__str__(), \"->\",round(new_score,2))\n",
    "                \n",
    "                # update new beam if new score is better than the worst of new beam\n",
    "                if new_score > new_beam[0].score:\n",
    "                    new_r.score = new_score\n",
    "                    new_beam[0] = new_r\n",
    "                    new_beam = reorder(new_beam)\n",
    "                    if verbose:\n",
    "                        print(\"new beam =\", [b.__str__() for b in new_beam])\n",
    "                        \n",
    "        # stop the search if no difference was made in this iteration\n",
    "        if [b.__str__() for b in new_beam] == [b.__str__() for b in beam]:\n",
    "            print(\"[\"+str(i)+\"] BEAM =\", [b.__str__() for b in beam])\n",
    "            break\n",
    "            \n",
    "        # update the beam\n",
    "        beam = deepcopy(new_beam)\n",
    "        \n",
    "        if verbose:\n",
    "            print(\"[\"+str(i)+\"] BEAM =\", [b.__str__() for b in beam])\n",
    "            print(\"-----------------------------------------\")\n",
    "            \n",
    "        i+=1\n",
    "    if not verbose :\n",
    "        print(\"[\"+str(i)+\"] BEAM =\", [b.__str__() for b in beam])\n",
    "        print(\"-----------------------------------------\")\n",
    "    return(beam, [b.__str__() for b in beam])\n",
    "# TEST\n",
    "# b, b_str = beam_search(Udata, Rdata, 2, verbose= False)\n",
    "# print(b[-1].get_subset(Udata,Rdata))"
   ]
  },
  {
   "cell_type": "markdown",
   "metadata": {},
   "source": [
    "Now let us use our sushi data set, and find exceptionnal groups based on certain simple attribute i.e. that can be transformed in a meaningful manner in a categorical attribute (or already are categorical)"
   ]
  },
  {
   "cell_type": "code",
   "execution_count": 6,
   "metadata": {},
   "outputs": [
    {
     "data": {
      "text/html": [
       "<div>\n",
       "<style scoped>\n",
       "    .dataframe tbody tr th:only-of-type {\n",
       "        vertical-align: middle;\n",
       "    }\n",
       "\n",
       "    .dataframe tbody tr th {\n",
       "        vertical-align: top;\n",
       "    }\n",
       "\n",
       "    .dataframe thead th {\n",
       "        text-align: right;\n",
       "    }\n",
       "</style>\n",
       "<table border=\"1\" class=\"dataframe\">\n",
       "  <thead>\n",
       "    <tr style=\"text-align: right;\">\n",
       "      <th></th>\n",
       "      <th>gender</th>\n",
       "      <th>age</th>\n",
       "      <th>EWID</th>\n",
       "      <th>eqprefs</th>\n",
       "      <th>velocity</th>\n",
       "    </tr>\n",
       "  </thead>\n",
       "  <tbody>\n",
       "    <tr>\n",
       "      <th>0</th>\n",
       "      <td>0</td>\n",
       "      <td>2</td>\n",
       "      <td>0</td>\n",
       "      <td>0</td>\n",
       "      <td>2</td>\n",
       "    </tr>\n",
       "    <tr>\n",
       "      <th>1</th>\n",
       "      <td>1</td>\n",
       "      <td>1</td>\n",
       "      <td>1</td>\n",
       "      <td>0</td>\n",
       "      <td>0</td>\n",
       "    </tr>\n",
       "    <tr>\n",
       "      <th>2</th>\n",
       "      <td>1</td>\n",
       "      <td>2</td>\n",
       "      <td>1</td>\n",
       "      <td>1</td>\n",
       "      <td>2</td>\n",
       "    </tr>\n",
       "    <tr>\n",
       "      <th>3</th>\n",
       "      <td>0</td>\n",
       "      <td>4</td>\n",
       "      <td>1</td>\n",
       "      <td>1</td>\n",
       "      <td>2</td>\n",
       "    </tr>\n",
       "    <tr>\n",
       "      <th>4</th>\n",
       "      <td>1</td>\n",
       "      <td>1</td>\n",
       "      <td>1</td>\n",
       "      <td>1</td>\n",
       "      <td>2</td>\n",
       "    </tr>\n",
       "  </tbody>\n",
       "</table>\n",
       "</div>"
      ],
      "text/plain": [
       "  gender age EWID eqprefs velocity\n",
       "0      0   2    0       0        2\n",
       "1      1   1    1       0        0\n",
       "2      1   2    1       1        2\n",
       "3      0   4    1       1        2\n",
       "4      1   1    1       1        2"
      ]
     },
     "execution_count": 6,
     "metadata": {},
     "output_type": "execute_result"
    }
   ],
   "source": [
    "Usource = \"sushi3-2016/sushi3.udata\"\n",
    "Uranks = \"sushi3-2016/sushi3a.5000.10.order\"\n",
    "\n",
    "# SUSHI : USER DATA\n",
    "Udata = pd.read_csv(Usource, sep = \"\\t\", header=None, names = [\"ID\", \n",
    "                                                                          \"gender\",\n",
    "                                                                          \"age\",\n",
    "                                                                          \"time\",\n",
    "                                                                          \"prefID\",\n",
    "                                                                          \"regID\",\n",
    "                                                                          \"EWID\",\n",
    "                                                                          \"curprefID\",\n",
    "                                                                          \"curregID\",\n",
    "                                                                          \"curEWID\",\n",
    "                                                                          \"eqprefs\"])\n",
    "# speed to fill the form 0 : slow, 1 : medium ,2 : fast\n",
    "Udata[\"velocity\"], bins = pd.qcut(Udata[\"time\"].values,3,\n",
    "                                  labels = False,\n",
    "                                  retbins=True) \n",
    "# print(\"Speed limits for the three levels : \"+ str(bins) + ' (secs)')\n",
    "# dropping some data for computational efficiency of the Beam Search algo\n",
    "Udata = Udata.drop([\"ID\",\"prefID\",\"regID\",\"curprefID\",\"curregID\",\"curEWID\",\"time\"],axis=1)\n",
    "Udata = pd.DataFrame(Udata,dtype=str)\n",
    "# because this is an assumption of the Beam Search algorithm above !\n",
    "Udata.head(5)"
   ]
  },
  {
   "cell_type": "code",
   "execution_count": 7,
   "metadata": {},
   "outputs": [
    {
     "data": {
      "text/html": [
       "<div>\n",
       "<style scoped>\n",
       "    .dataframe tbody tr th:only-of-type {\n",
       "        vertical-align: middle;\n",
       "    }\n",
       "\n",
       "    .dataframe tbody tr th {\n",
       "        vertical-align: top;\n",
       "    }\n",
       "\n",
       "    .dataframe thead th {\n",
       "        text-align: right;\n",
       "    }\n",
       "</style>\n",
       "<table border=\"1\" class=\"dataframe\">\n",
       "  <thead>\n",
       "    <tr style=\"text-align: right;\">\n",
       "      <th></th>\n",
       "      <th>ebi</th>\n",
       "      <th>anago</th>\n",
       "      <th>maguro</th>\n",
       "      <th>ika</th>\n",
       "      <th>uni</th>\n",
       "      <th>ikura</th>\n",
       "      <th>tamago</th>\n",
       "      <th>toro</th>\n",
       "      <th>tekka_maki</th>\n",
       "      <th>kappa_maki</th>\n",
       "    </tr>\n",
       "  </thead>\n",
       "  <tbody>\n",
       "    <tr>\n",
       "      <th>0</th>\n",
       "      <td>5</td>\n",
       "      <td>0</td>\n",
       "      <td>3</td>\n",
       "      <td>4</td>\n",
       "      <td>6</td>\n",
       "      <td>9</td>\n",
       "      <td>8</td>\n",
       "      <td>1</td>\n",
       "      <td>7</td>\n",
       "      <td>2</td>\n",
       "    </tr>\n",
       "    <tr>\n",
       "      <th>1</th>\n",
       "      <td>0</td>\n",
       "      <td>9</td>\n",
       "      <td>6</td>\n",
       "      <td>3</td>\n",
       "      <td>7</td>\n",
       "      <td>2</td>\n",
       "      <td>8</td>\n",
       "      <td>1</td>\n",
       "      <td>5</td>\n",
       "      <td>4</td>\n",
       "    </tr>\n",
       "    <tr>\n",
       "      <th>2</th>\n",
       "      <td>7</td>\n",
       "      <td>0</td>\n",
       "      <td>2</td>\n",
       "      <td>3</td>\n",
       "      <td>8</td>\n",
       "      <td>4</td>\n",
       "      <td>5</td>\n",
       "      <td>1</td>\n",
       "      <td>9</td>\n",
       "      <td>6</td>\n",
       "    </tr>\n",
       "    <tr>\n",
       "      <th>3</th>\n",
       "      <td>4</td>\n",
       "      <td>5</td>\n",
       "      <td>7</td>\n",
       "      <td>0</td>\n",
       "      <td>2</td>\n",
       "      <td>3</td>\n",
       "      <td>1</td>\n",
       "      <td>6</td>\n",
       "      <td>8</td>\n",
       "      <td>9</td>\n",
       "    </tr>\n",
       "    <tr>\n",
       "      <th>4</th>\n",
       "      <td>8</td>\n",
       "      <td>6</td>\n",
       "      <td>5</td>\n",
       "      <td>0</td>\n",
       "      <td>3</td>\n",
       "      <td>9</td>\n",
       "      <td>2</td>\n",
       "      <td>7</td>\n",
       "      <td>4</td>\n",
       "      <td>1</td>\n",
       "    </tr>\n",
       "  </tbody>\n",
       "</table>\n",
       "</div>"
      ],
      "text/plain": [
       "   ebi  anago  maguro  ika  uni  ikura  tamago  toro  tekka_maki  kappa_maki\n",
       "0    5      0       3    4    6      9       8     1           7           2\n",
       "1    0      9       6    3    7      2       8     1           5           4\n",
       "2    7      0       2    3    8      4       5     1           9           6\n",
       "3    4      5       7    0    2      3       1     6           8           9\n",
       "4    8      6       5    0    3      9       2     7           4           1"
      ]
     },
     "execution_count": 7,
     "metadata": {},
     "output_type": "execute_result"
    }
   ],
   "source": [
    "#SUSHI : RANKING DATA\n",
    "sushis = [\"ebi\",\"anago\",\"maguro\",\"ika\",\"uni\",\"ikura\",\"tamago\",\"toro\",\"tekka_maki\",\"kappa_maki\"]\n",
    "Rdata = pd.read_csv(Uranks, sep = \" \", header=None,skiprows=1, names = [\"X0\",\"X10\"]+sushis)\n",
    "Rdata = Rdata.drop([\"X0\", \"X10\"],axis=1)  \n",
    "Rdata.head()"
   ]
  },
  {
   "cell_type": "markdown",
   "metadata": {},
   "source": [
    "For a use in the notebook \"Example worflow\", we save those preprocessed data."
   ]
  },
  {
   "cell_type": "code",
   "execution_count": 8,
   "metadata": {},
   "outputs": [],
   "source": [
    "Udata.to_csv(path_or_buf = \"sushi3-2016/forEPM.sushi3.udata\", sep= \" \", index = False)\n",
    "Rdata.to_csv(path_or_buf = \"sushi3-2016/forEPM.sushi3a.5000.10.order\", sep= \" \", index = False)"
   ]
  },
  {
   "cell_type": "markdown",
   "metadata": {},
   "source": [
    "Here in the first colums is the id of the prefered sushi, and in the last is the idea of the less appreciated sushi...\n",
    "\n",
    "We want to change this so that the first columns is the rank given to the sushi of id 1, etc..."
   ]
  },
  {
   "cell_type": "code",
   "execution_count": 9,
   "metadata": {},
   "outputs": [],
   "source": [
    "# our ranks go from 1 to 10 for a normal human interpretation \n",
    "def transform_ranks(x):\n",
    "    y = np.zeros_like(x)\n",
    "    for rank, ID in enumerate(x):\n",
    "        y[ID] = rank+1\n",
    "    return(y)\n",
    "\n",
    "# TEST :\n",
    "# transform_ranks(Rdata.iloc[0].values)\n",
    "Rdata = Rdata.apply(transform_ranks,axis=1)"
   ]
  },
  {
   "cell_type": "markdown",
   "metadata": {},
   "source": [
    "Now let us define our Exceptional Preference score. It is based on the article [*Exceptional Preference Mining*](https://biblio.ugent.be/publication/8519644/file/8519856.pdf) by Claudio Rebelo de Sa *et al*"
   ]
  },
  {
   "cell_type": "code",
   "execution_count": 10,
   "metadata": {},
   "outputs": [],
   "source": [
    "# we compute a preference matrix (PM) that gives the relative pairwise preferences for an item/sushi\n",
    "\n",
    "\"\"\"\n",
    "ranks : a numpy array, \n",
    "\"\"\"\n",
    "def fill_PM_with_row(PM, row, l, w):\n",
    "    \"\"\" Fill a preference matrix (PM)\n",
    "    Input : \n",
    "        - PM : is a (w,w) (w = nb of items ranked) numpy array filled of zeros \n",
    "        - row : the rankings of a subject to take into account\n",
    "        - l, w : length and w of the dataset at end. l is useless here anc could be removed.\n",
    "    \"\"\"\n",
    "    for i in np.arange(w):\n",
    "        for j in np.arange(w):\n",
    "#                 print(i,j, row, PM.shape)\n",
    "            PM[i,j]+=np.sign(row[i]-row[j])\n",
    "    return(PM)\n",
    "    \n",
    "def compute_PM(ranks):\n",
    "    l,w = ranks.shape\n",
    "#     print(l,w)\n",
    "    if l==0:\n",
    "        return(None)\n",
    "    PM = np.zeros((w,w))\n",
    "    np.apply_along_axis(lambda row : fill_PM_with_row(PM, row, l, w),1, ranks)\n",
    "    PM/= float(l)\n",
    "    return(PM)\n",
    "\n",
    "# N : size of the origina dataset\n",
    "def compute_PM_score(ranks,globalPM, N, method = \"Norm\"):\n",
    "    PM = compute_PM(ranks)\n",
    "    \n",
    "    #if subgroup is empty, return score=0\n",
    "    if PM is None :\n",
    "            return(0.0)\n",
    "        \n",
    "    if method == \"Norm\":\n",
    "        # Frobenius norm of the difference\n",
    "        criteria = np.linalg.norm(PM-globalPM,ord='fro')\n",
    "    else:\n",
    "        pass\n",
    "    # weighted by sqrt(size of the subgroup)\n",
    "    return(criteria*np.sqrt(ranks.shape[0]/float(N)))\n",
    "    \n",
    "\n",
    "# To visualise the preference matrix in a nice way\n",
    "def display_PM(PM, items_names):\n",
    "    fig = plt.figure()\n",
    "    # PREFERENCE MATRIX\n",
    "    ax = fig.add_subplot(1,1,1)\n",
    "    cax = ax.matshow(PM, cmap='seismic')\n",
    "#     fig.colorbar(cax)\n",
    "    # Axes\n",
    "    ax.set_xticklabels([''] + items_names, rotation=90)\n",
    "    ax.set_yticklabels([''] + items_names)\n",
    "    \n",
    "#     .title()\n",
    "    # Label pour chaque index\n",
    "    ax.xaxis.set_major_locator(ticker.MultipleLocator(1))\n",
    "    ax.yaxis.set_major_locator(ticker.MultipleLocator(1))\n",
    "    plt.show()\n",
    "    # BARPLOT OF PREFERENCES\n",
    "    fig = plt.figure()\n",
    "    ax = fig.add_subplot(1,1,1)\n",
    "    w = PM.sum(axis=1)\n",
    "    norm01 = mc.Normalize(vmin=min(w),vmax=max(w))\n",
    "    plt.barh(list(range(10)),w, tick_label = items_names,color = cm.seismic(norm01(w)))\n",
    "    plt.title(\"Barplot of preferences\")\n",
    "    plt.show()\n",
    "    \n",
    "def display_best_PM(beam, Udata, Rdata, items_names, n=1, relative = False):\n",
    "    assert n<=len(beam)\n",
    "    for i in np.arange(n):\n",
    "        print(\"PM #\"+str(i)+\" is obtained with rule : \")\n",
    "        rule = beam[-(i+1)]\n",
    "        print(rule.__str__() + \" and score :\" + str(rule.score))\n",
    "        ranks = rule.get_subset(Udata,Rdata)\n",
    "        PM = compute_PM(ranks)\n",
    "        if relative:\n",
    "            print(\"PM differences are as follow :\")\n",
    "            final = (1.0/2)*(compute_PM(Rdata.values)-PM)\n",
    "            display_PM(final,items_names)\n",
    "            #(division by 2 limits the distance to the interval [1; 1]\n",
    "        else:\n",
    "            print(\"PM is :\")\n",
    "            final = PM\n",
    "            display_PM(final,items_names)\n",
    "    \n",
    "# TEST\n",
    "# compute_PM(np.random.randint(0,high=10,size=(10,4)))"
   ]
  },
  {
   "cell_type": "markdown",
   "metadata": {},
   "source": [
    "First we compute the PM on the whole dataset"
   ]
  },
  {
   "cell_type": "code",
   "execution_count": 11,
   "metadata": {},
   "outputs": [
    {
     "name": "stdout",
     "output_type": "stream",
     "text": [
      "CPU times: user 0 ns, sys: 0 ns, total: 0 ns\n",
      "Wall time: 8.11 µs\n"
     ]
    },
    {
     "data": {
      "image/png": "[encoded data removed]",
      "text/plain": [
       "<matplotlib.figure.Figure at 0x7fb350cc4710>"
      ]
     },
     "metadata": {},
     "output_type": "display_data"
    },
    {
     "data": {
      "image/png": "[encoded data removed]",
      "text/plain": [
       "<matplotlib.figure.Figure at 0x7fb350af1f28>"
      ]
     },
     "metadata": {},
     "output_type": "display_data"
    }
   ],
   "source": [
    "%time #really fast !\n",
    "PM_5000 = compute_PM(Rdata.values)\n",
    "display_PM(PM_5000, Rdata.columns.tolist()) "
   ]
  },
  {
   "cell_type": "markdown",
   "metadata": {},
   "source": [
    "Interpretation is easy. For instance, toro is globaly less appreciated than the other sushis, maguro as well to a certain extend. And tamago and kappa makis are loved by everyone... with this relationship : kappa_maki > tamago.\n",
    "\n",
    "This is clearly seen when we compute the sum over a row :)"
   ]
  },
  {
   "cell_type": "markdown",
   "metadata": {},
   "source": [
    "The PM of the subgroup is compared to the PM of the whole dataset. This gives an **exceptionality score**.\n",
    "\n",
    "Here, we build a particular function to avoid computing the PM for the whole dataset at each step."
   ]
  },
  {
   "cell_type": "code",
   "execution_count": 12,
   "metadata": {},
   "outputs": [],
   "source": [
    "get_PM_score = lambda ranks : compute_PM_score(ranks, PM_5000, Rdata.shape[1],method = \"Norm\")"
   ]
  },
  {
   "cell_type": "markdown",
   "metadata": {},
   "source": [
    "Let us now apply our previous Beam Search algorithm"
   ]
  },
  {
   "cell_type": "code",
   "execution_count": 13,
   "metadata": {
    "scrolled": false
   },
   "outputs": [
    {
     "name": "stdout",
     "output_type": "stream",
     "text": [
      "[age = 4] -> 7.57\n",
      "new beam = ['', '', '', '', '[age = 4]']\n",
      "[gender = 1] -> 10.24\n",
      "new beam = ['', '', '', '[age = 4]', '[gender = 1]']\n",
      "[age < 3] -> 6.65\n",
      "new beam = ['', '', '[age < 3]', '[age = 4]', '[gender = 1]']\n",
      "[velocity = 2] -> 3.66\n",
      "new beam = ['', '[velocity = 2]', '[age < 3]', '[age = 4]', '[gender = 1]']\n",
      "[eqprefs = 0] -> 4.18\n",
      "new beam = ['[velocity = 2]', '[eqprefs = 0]', '[age < 3]', '[age = 4]', '[gender = 1]']\n",
      "[velocity = 0] -> 3.98\n",
      "new beam = ['[velocity = 0]', '[eqprefs = 0]', '[age < 3]', '[age = 4]', '[gender = 1]']\n",
      "[age > 2] -> 10.88\n",
      "new beam = ['[eqprefs = 0]', '[age < 3]', '[age = 4]', '[gender = 1]', '[age > 2]']\n",
      "[age = 2] -> 4.19\n",
      "new beam = ['[age = 2]', '[age < 3]', '[age = 4]', '[gender = 1]', '[age > 2]']\n",
      "[age = 0] -> 11.28\n",
      "new beam = ['[age < 3]', '[age = 4]', '[gender = 1]', '[age > 2]', '[age = 0]']\n",
      "[age < 2] -> 10.8\n",
      "new beam = ['[age = 4]', '[gender = 1]', '[age < 2]', '[age > 2]', '[age = 0]']\n",
      "[EWID = 1] -> 6.9\n",
      "[age > 3] -> 9.29\n",
      "new beam = ['[age > 3]', '[gender = 1]', '[age < 2]', '[age > 2]', '[age = 0]']\n",
      "[age = 3] -> 7.71\n",
      "[velocity = 1] -> 2.11\n",
      "[age = 5] -> 6.8\n",
      "[age = 1] -> 7.62\n",
      "[gender = 0] -> 10.77\n",
      "new beam = ['[gender = 1]', '[gender = 0]', '[age < 2]', '[age > 2]', '[age = 0]']\n",
      "[eqprefs = 1] -> 5.6\n",
      "[EWID = 0] -> 5.04\n",
      "[EWID = 0] -> 5.04\n",
      "[age = 4] -> 7.57\n",
      "[0] BEAM = ['[gender = 1]', '[gender = 0]', '[age < 2]', '[age > 2]', '[age = 0]']\n",
      "-----------------------------------------\n",
      "[gender = 1] & [age > 2] -> 4.45\n",
      "[gender = 1] & [velocity = 0] -> 7.61\n",
      "[gender = 1] & [age < 3] -> 11.53\n",
      "new beam = ['[gender = 0]', '[age < 2]', '[age > 2]', '[age = 0]', '[gender = 1] & [age < 3]']\n",
      "[gender = 1] & [age = 4] -> 4.68\n",
      "[gender = 1] & [EWID = 1] -> 8.43\n",
      "[gender = 0] & [velocity = 1] -> 7.66\n",
      "[gender = 0] & [velocity = 0] -> 5.42\n",
      "[gender = 0] & [EWID = 1] -> 7.58\n",
      "[gender = 0] & [age = 3] -> 8.96\n",
      "[gender = 0] & [age < 2] -> 6.47\n",
      "[gender = 0] & [EWID = 0] -> 8.89\n",
      "[gender = 0] & [eqprefs = 1] -> 10.52\n",
      "[gender = 0] & [age = 2] -> 8.36\n",
      "[gender = 0] & [velocity = 2] -> 7.95\n",
      "[gender = 0] & [age = 5] -> 5.87\n",
      "[age > 2] & [velocity = 1] -> 5.91\n",
      "[age > 2] & [gender = 0] -> 11.56\n",
      "new beam = ['[age < 2]', '[age > 2]', '[age = 0]', '[gender = 1] & [age < 3]', '[age > 2] & [gender = 0]']\n",
      "[age > 2] & [EWID = 1] -> 7.99\n",
      "[age > 2] & [velocity = 2] -> 8.41\n",
      "[age = 0] & [gender = 1] -> 11.27\n",
      "new beam = ['[age > 2]', '[age = 0] & [gender = 1]', '[age = 0]', '[gender = 1] & [age < 3]', '[age > 2] & [gender = 0]']\n",
      "[1] BEAM = ['[age > 2]', '[age = 0] & [gender = 1]', '[age = 0]', '[gender = 1] & [age < 3]', '[age > 2] & [gender = 0]']\n",
      "-----------------------------------------\n",
      "[age > 2] & [velocity = 0] -> 4.88\n",
      "[age > 2] & [velocity = 2] -> 8.41\n",
      "[age = 0] & [gender = 1] & [velocity = 1] -> 6.82\n",
      "[age = 0] & [gender = 1] & [velocity = 0] -> 7.27\n",
      "[age = 0] & [gender = 0] -> 4.45\n",
      "[age = 0] & [velocity = 2] -> 5.72\n",
      "[2] BEAM = ['[age > 2]', '[age = 0] & [gender = 1]', '[age = 0]', '[gender = 1] & [age < 3]', '[age > 2] & [gender = 0]']\n"
     ]
    }
   ],
   "source": [
    "b, b_str = beam_search(Udata, Rdata, 5, max_iter = 50,verbose = True, score_function = get_PM_score)"
   ]
  },
  {
   "cell_type": "markdown",
   "metadata": {},
   "source": [
    "Here are the most important rules found, as well as the PM associated."
   ]
  },
  {
   "cell_type": "code",
   "execution_count": 14,
   "metadata": {
    "scrolled": true
   },
   "outputs": [
    {
     "name": "stdout",
     "output_type": "stream",
     "text": [
      "PM #0 is obtained with rule : \n",
      "[age > 2] & [gender = 0] and score :11.5590982836\n",
      "PM differences are as follow :\n"
     ]
    },
    {
     "data": {
      "image/png": "[encoded data removed]",
      "text/plain": [
       "<matplotlib.figure.Figure at 0x7fb350a89e80>"
      ]
     },
     "metadata": {},
     "output_type": "display_data"
    },
    {
     "data": {
      "image/png": "[encoded data removed]",
      "text/plain": [
       "<matplotlib.figure.Figure at 0x7fb3480c4358>"
      ]
     },
     "metadata": {},
     "output_type": "display_data"
    },
    {
     "name": "stdout",
     "output_type": "stream",
     "text": [
      "PM #1 is obtained with rule : \n",
      "[gender = 1] & [age < 3] and score :11.5262741814\n",
      "PM differences are as follow :\n"
     ]
    },
    {
     "data": {
      "image/png": "[encoded data removed]",
      "text/plain": [
       "<matplotlib.figure.Figure at 0x7fb3480ede10>"
      ]
     },
     "metadata": {},
     "output_type": "display_data"
    },
    {
     "data": {
      "image/png": "[encoded data removed]",
      "text/plain": [
       "<matplotlib.figure.Figure at 0x7fb3480bf4a8>"
      ]
     },
     "metadata": {},
     "output_type": "display_data"
    },
    {
     "name": "stdout",
     "output_type": "stream",
     "text": [
      "PM #2 is obtained with rule : \n",
      "[age = 0] and score :11.2789842596\n",
      "PM differences are as follow :\n"
     ]
    },
    {
     "data": {
      "image/png": "[encoded data removed]",
      "text/plain": [
       "<matplotlib.figure.Figure at 0x7fb350a4f320>"
      ]
     },
     "metadata": {},
     "output_type": "display_data"
    },
    {
     "data": {
      "image/png": "[encoded data removed]",
      "text/plain": [
       "<matplotlib.figure.Figure at 0x7fb350a18b38>"
      ]
     },
     "metadata": {},
     "output_type": "display_data"
    },
    {
     "name": "stdout",
     "output_type": "stream",
     "text": [
      "PM #3 is obtained with rule : \n",
      "[age = 0] & [gender = 1] and score :11.2690663863\n",
      "PM differences are as follow :\n"
     ]
    },
    {
     "data": {
      "image/png": "[encoded data removed]",
      "text/plain": [
       "<matplotlib.figure.Figure at 0x7fb350a14048>"
      ]
     },
     "metadata": {},
     "output_type": "display_data"
    },
    {
     "data": {
      "image/png": "[encoded data removed]",
      "text/plain": [
       "<matplotlib.figure.Figure at 0x7fb3509f31d0>"
      ]
     },
     "metadata": {},
     "output_type": "display_data"
    }
   ],
   "source": [
    "display_best_PM(b, Udata, Rdata, sushis, n=4, relative = True)"
   ]
  },
  {
   "cell_type": "markdown",
   "metadata": {},
   "source": [
    "So we can immediatly see some interestings results here  :\n",
    "\n",
    "- the youngest (age=0 : below 19 years old)  are globally less attracted to uni and anago sushis compared to their elders; \n",
    "- people below 29 years old (age < 2) follow the same trend but with less intensity ; the bigger size of the subgroup explains why it was nevertheless kept in the results;\n",
    "- being old is associated with a net disdain for ikura and tamaro compared to the rest of the population, as well as for ebi sushis ;\n",
    "- compared to the rest of the population (so to females), males (gender=0) have quite different tastes. The subgroups should be studied separately."
   ]
  },
  {
   "cell_type": "markdown",
   "metadata": {},
   "source": [
    "## Conclusion\n",
    "\n",
    "**Credit** : this work was inspired by this [repository](https://github.com/alicemontel/M2DS_MusicProject) in which the previous EPM algorithm is naively implemented.\n",
    "\n",
    "Our contribution is the implementation of the Beam Search algorithm, as well as an improved computational efficiency in the computation of the PM using numpy matrix operations. \n",
    "\n",
    "Furthermore, this notebook explain a reproductible demarch to mine exceptionnal preference pattern in virtually any ranking dataset.\n",
    "\n",
    "Over the 24/02/2018"
   ]
  }
 ],
 "metadata": {
  "kernelspec": {
   "display_name": "Python 3",
   "language": "python",
   "name": "python3"
  },
  "language_info": {
   "codemirror_mode": {
    "name": "ipython",
    "version": 3
   },
   "file_extension": ".py",
   "mimetype": "text/x-python",
   "name": "python",
   "nbconvert_exporter": "python",
   "pygments_lexer": "ipython3",
   "version": "3.5.4"
  }
 },
 "nbformat": 4,
 "nbformat_minor": 2
}
